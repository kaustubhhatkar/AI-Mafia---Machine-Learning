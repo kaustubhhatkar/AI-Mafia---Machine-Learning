{
  "nbformat": 4,
  "nbformat_minor": 0,
  "metadata": {
    "colab": {
      "provenance": [],
      "collapsed_sections": [],
      "authorship_tag": "ABX9TyOOSszR2n0gEKQPpM6c8LZ0",
      "include_colab_link": true
    },
    "kernelspec": {
      "name": "python3",
      "display_name": "Python 3"
    },
    "language_info": {
      "name": "python"
    }
  },
  "cells": [
    {
      "cell_type": "markdown",
      "metadata": {
        "id": "view-in-github",
        "colab_type": "text"
      },
      "source": [
        "<a href=\"https://colab.research.google.com/github/kaustubhhatkar/DataScience_and_MachineLearning/blob/master/CSLAB3.ipynb\" target=\"_parent\"><img src=\"https://colab.research.google.com/assets/colab-badge.svg\" alt=\"Open In Colab\"/></a>"
      ]
    },
    {
      "cell_type": "markdown",
      "source": [
        "Name : Kaustubh Sanjay Hatkar\n",
        "Roll no : 32128"
      ],
      "metadata": {
        "id": "FDvVEcXwA87G"
      }
    },
    {
      "cell_type": "code",
      "source": [
        "import numpy as np\n",
        "import pandas as pd \n",
        "import matplotlib.pyplot as plt"
      ],
      "metadata": {
        "id": "zzaFNZN9A7jm"
      },
      "execution_count": 1,
      "outputs": []
    },
    {
      "cell_type": "code",
      "source": [
        "# Load the dataset\n",
        "data = pd.read_csv(\"Birthwt.csv\")\n",
        "data.head()\n",
        "data.info()"
      ],
      "metadata": {
        "colab": {
          "base_uri": "https://localhost:8080/",
          "height": 0
        },
        "id": "iKIvojLeBD02",
        "outputId": "e4c8f35b-708c-42a0-c0d6-da3671cccf5d"
      },
      "execution_count": 3,
      "outputs": [
        {
          "output_type": "stream",
          "name": "stdout",
          "text": [
            "<class 'pandas.core.frame.DataFrame'>\n",
            "RangeIndex: 189 entries, 0 to 188\n",
            "Data columns (total 10 columns):\n",
            " #   Column  Non-Null Count  Dtype\n",
            "---  ------  --------------  -----\n",
            " 0   low     189 non-null    int64\n",
            " 1   age     189 non-null    int64\n",
            " 2   lwt     189 non-null    int64\n",
            " 3   race    189 non-null    int64\n",
            " 4   smoke   189 non-null    int64\n",
            " 5   ptl     189 non-null    int64\n",
            " 6   ht      189 non-null    int64\n",
            " 7   ui      189 non-null    int64\n",
            " 8   ftv     189 non-null    int64\n",
            " 9   bwt     189 non-null    int64\n",
            "dtypes: int64(10)\n",
            "memory usage: 14.9 KB\n"
          ]
        }
      ]
    },
    {
      "cell_type": "code",
      "source": [
        "# Vaiable Declaration\n",
        "Age = data['age'] \n",
        "baby_weight = data['bwt'] \n",
        "mother_weight = data['lwt']"
      ],
      "metadata": {
        "id": "bbRm4U01BaNF"
      },
      "execution_count": 4,
      "outputs": []
    },
    {
      "cell_type": "code",
      "source": [
        "#Correlation test and Linear regression for Age and Baby's weight\n",
        "corr_1 = Age.corr(baby_weight) \n",
        "print(\"Correlation: \", corr_1)\n"
      ],
      "metadata": {
        "colab": {
          "base_uri": "https://localhost:8080/",
          "height": 0
        },
        "id": "LwFccgqGBcQO",
        "outputId": "63cea392-32de-4e7e-b233-2bc2fb8aa757"
      },
      "execution_count": 5,
      "outputs": [
        {
          "output_type": "stream",
          "name": "stdout",
          "text": [
            "Correlation:  0.0903178136685326\n"
          ]
        }
      ]
    },
    {
      "cell_type": "code",
      "source": [
        "def estimate_coefficients(x, y):     \n",
        " n = np.size(x)         \n",
        " mean_x, mean_y = np.mean(x), np.mean(y)   \n",
        "\n",
        " a = np.sum(y*x - n*mean_y*mean_x)     \n",
        " b = np.sum(x*x - n*mean_x*mean_x)\n",
        " co_1 = a/b  \n",
        " co_0 = mean_y - co_1*mean_x \n",
        " return(co_0, co_1)     "
      ],
      "metadata": {
        "id": "dUocZQyJBeMO"
      },
      "execution_count": 6,
      "outputs": []
    },
    {
      "cell_type": "code",
      "source": [
        "coeff_1 = estimate_coefficients(Age.to_numpy(), baby_weight.to_numpy()) \n",
        "print(\"Estimated coefficients:\\nc = {} \\nm = {}\".format(coeff_1[0], coeff_1[1]))\n",
        "\n"
      ],
      "metadata": {
        "colab": {
          "base_uri": "https://localhost:8080/",
          "height": 0
        },
        "id": "nHf-wJP5Bgm-",
        "outputId": "0d8c45fa-3b4b-41d5-9d1b-8b1a1e854e5a"
      },
      "execution_count": 7,
      "outputs": [
        {
          "output_type": "stream",
          "name": "stdout",
          "text": [
            "Estimated coefficients:\n",
            "c = -0.7307653699954244 \n",
            "m = 126.7452446846378\n"
          ]
        }
      ]
    },
    {
      "cell_type": "code",
      "source": [
        "#Scatter Plot (Age vs Baby's weight)\n",
        "plt.scatter(Age.to_numpy(), baby_weight.to_numpy(), color = \"b\",marker = \"o\")\n"
      ],
      "metadata": {
        "colab": {
          "base_uri": "https://localhost:8080/",
          "height": 283
        },
        "id": "ApGhjbvvBi88",
        "outputId": "2b06c71d-3239-4eee-c1df-f722c9e0f46e"
      },
      "execution_count": 8,
      "outputs": [
        {
          "output_type": "execute_result",
          "data": {
            "text/plain": [
              "<matplotlib.collections.PathCollection at 0x7fb580e401d0>"
            ]
          },
          "metadata": {},
          "execution_count": 8
        },
        {
          "output_type": "display_data",
          "data": {
            "text/plain": [
              "<Figure size 432x288 with 1 Axes>"
            ],
            "image/png": "[encoded data removed]"
          },
          "metadata": {
            "needs_background": "light"
          }
        }
      ]
    },
    {
      "cell_type": "code",
      "source": [
        "y_pred = coeff_1[0] + coeff_1[1]*Age.to_numpy() "
      ],
      "metadata": {
        "id": "Gb-0tys5Bmnl"
      },
      "execution_count": 9,
      "outputs": []
    },
    {
      "cell_type": "code",
      "source": [
        "plt.plot(Age.to_numpy(), y_pred, color = \"r\")  \n",
        "plt.xlabel('Age') \n",
        "plt.ylabel('Baby Weight') \n",
        "plt.show()"
      ],
      "metadata": {
        "colab": {
          "base_uri": "https://localhost:8080/",
          "height": 279
        },
        "id": "MylBtdUiBogF",
        "outputId": "c7984ce7-31f3-46a2-b06d-48dd16db6156"
      },
      "execution_count": 10,
      "outputs": [
        {
          "output_type": "display_data",
          "data": {
            "text/plain": [
              "<Figure size 432x288 with 1 Axes>"
            ],
            "image/png": "[encoded data removed]"
          },
          "metadata": {
            "needs_background": "light"
          }
        }
      ]
    },
    {
      "cell_type": "code",
      "source": [
        "#Correlation test and Linear regression for Mother's weight and Baby's weight\n",
        "corr_2 = mother_weight.corr(baby_weight) \n",
        "print(\"Correlation: \", corr_2)"
      ],
      "metadata": {
        "colab": {
          "base_uri": "https://localhost:8080/",
          "height": 0
        },
        "id": "SU5MFuFRBqNA",
        "outputId": "f6f114e8-bfc7-423c-8256-610a29270a6f"
      },
      "execution_count": 11,
      "outputs": [
        {
          "output_type": "stream",
          "name": "stdout",
          "text": [
            "Correlation:  0.18573328444909915\n"
          ]
        }
      ]
    },
    {
      "cell_type": "code",
      "source": [
        "coeff_2 = estimate_coefficients(mother_weight.to_numpy(), baby_weight.to_numpy()) \n",
        "print(\"Estimated coefficients:\\nc = {} \\nm = {}\".format(coeff_2[0], coeff_2[1]))\n"
      ],
      "metadata": {
        "colab": {
          "base_uri": "https://localhost:8080/",
          "height": 0
        },
        "id": "c6m7IbNbBt5X",
        "outputId": "a7df4c48-6257-4776-ee26-25c7ca24cdfc"
      },
      "execution_count": 12,
      "outputs": [
        {
          "output_type": "stream",
          "name": "stdout",
          "text": [
            "Estimated coefficients:\n",
            "c = -0.6959113465572955 \n",
            "m = 22.68834429364171\n"
          ]
        }
      ]
    },
    {
      "cell_type": "code",
      "source": [
        "#Scatter Plot (Mother's weight vs Baby's weight)\n",
        "plt.scatter(mother_weight.to_numpy(), baby_weight.to_numpy(), color = \"r\")\n",
        " "
      ],
      "metadata": {
        "colab": {
          "base_uri": "https://localhost:8080/",
          "height": 283
        },
        "id": "LQRJ9y-3Bv0A",
        "outputId": "d1defcc0-23bd-4a8a-dc36-c3307b18481c"
      },
      "execution_count": 13,
      "outputs": [
        {
          "output_type": "execute_result",
          "data": {
            "text/plain": [
              "<matplotlib.collections.PathCollection at 0x7fb58085cbd0>"
            ]
          },
          "metadata": {},
          "execution_count": 13
        },
        {
          "output_type": "display_data",
          "data": {
            "text/plain": [
              "<Figure size 432x288 with 1 Axes>"
            ],
            "image/png": "[encoded data removed]"
          },
          "metadata": {
            "needs_background": "light"
          }
        }
      ]
    },
    {
      "cell_type": "code",
      "source": [
        "\n",
        "y_pred = coeff_2[0] + coeff_2[1]*mother_weight.to_numpy() \n",
        "y_pred"
      ],
      "metadata": {
        "colab": {
          "base_uri": "https://localhost:8080/",
          "height": 0
        },
        "id": "9nngVu-aByU-",
        "outputId": "dafe634d-521b-4441-d5ce-f3f1008df1ba"
      },
      "execution_count": 16,
      "outputs": [
        {
          "output_type": "execute_result",
          "data": {
            "text/plain": [
              "array([4128.5827501 , 3515.99745417, 2381.58023949, 2449.64527237,\n",
              "       2426.95692807, 2812.65878107, 2676.5287153 , 2336.2035509 ,\n",
              "       2789.97043677, 2563.08699383, 2154.69679655, 3402.5557327 ,\n",
              "       2154.69679655, 2426.95692807, 2268.13851802, 2268.13851802,\n",
              "       2222.76182943, 2676.5287153 , 2721.90540389, 2721.90540389,\n",
              "       2744.59374818, 2268.13851802, 4582.34963597, 2721.90540389,\n",
              "       2721.90540389, 3788.25758569, 2767.28209248, 3402.5557327 ,\n",
              "       3810.94592999, 2563.08699383, 2563.08699383, 2041.25507508,\n",
              "       2744.59374818, 3515.99745417, 2835.34712536, 3175.67228976,\n",
              "       3130.29560118, 2812.65878107, 4877.29811179, 2472.33361666,\n",
              "       4196.64778298, 4287.40116015, 2948.78884683, 3629.43917564,\n",
              "       2041.25507508, 2041.25507508, 2994.16553541, 2994.16553541,\n",
              "       2608.46368242, 1927.81335361, 2721.90540389, 2903.41215824,\n",
              "       2948.78884683, 2154.69679655, 2608.46368242, 2495.02196095,\n",
              "       2495.02196095, 3470.62076558, 2336.2035509 , 2699.2170596 ,\n",
              "       2699.2170596 , 2699.2170596 , 2495.02196095, 3175.67228976,\n",
              "       3016.85387971, 3833.63427428, 2608.46368242, 5671.39016206,\n",
              "       3198.36063406, 3584.06248705, 2540.39864954, 3402.5557327 ,\n",
              "       2608.46368242, 2540.39864954, 3062.2305683 , 5194.9349319 ,\n",
              "       3175.67228976, 3039.542224  , 2744.59374818, 4310.08950445,\n",
              "       2971.47719112, 3856.32261857, 2495.02196095, 2880.72381395,\n",
              "       2789.97043677, 2721.90540389, 2381.58023949, 2948.78884683,\n",
              "       3969.76434004, 2835.34712536, 3016.85387971, 3039.542224  ,\n",
              "       5331.06499766, 2154.69679655, 3062.2305683 , 3062.2305683 ,\n",
              "       3493.30910987, 3334.49069982, 3334.49069982, 3107.60725688,\n",
              "       2495.02196095, 4173.95943868, 2495.02196095, 2495.02196095,\n",
              "       2721.90540389, 5467.19506342, 2540.39864954, 3833.63427428,\n",
              "       2721.90540389, 3856.32261857, 4219.33612727, 2721.90540389,\n",
              "       2948.78884683, 2653.84037101, 3856.32261857, 3039.542224  ,\n",
              "       3062.2305683 , 2948.78884683, 2721.90540389, 2154.69679655,\n",
              "       3584.06248705, 3629.43917564, 2608.46368242, 2926.10050253,\n",
              "       2948.78884683, 2721.90540389, 3856.32261857, 2721.90540389,\n",
              "       2631.15202672, 2789.97043677, 2721.90540389, 2948.78884683,\n",
              "       4242.02447156, 2381.58023949, 1927.81335361, 3402.5557327 ,\n",
              "       2200.07348514, 2903.41215824, 2994.16553541, 3742.8808971 ,\n",
              "       2381.58023949, 2063.94341937, 2608.46368242, 2948.78884683,\n",
              "       2086.63176367, 3402.5557327 , 4536.97294738, 3515.99745417,\n",
              "       2336.2035509 , 2835.34712536, 2018.56673079, 2313.5152066 ,\n",
              "       2540.39864954, 2653.84037101, 3130.29560118, 2948.78884683,\n",
              "       2721.90540389, 2948.78884683, 2948.78884683, 1814.37163214,\n",
              "       2495.02196095, 2381.58023949, 2472.33361666, 3357.17904411,\n",
              "       2495.02196095, 2744.59374818, 2268.13851802, 2177.38514084,\n",
              "       2313.5152066 , 2495.02196095, 4242.02447156, 2767.28209248,\n",
              "       2381.58023949, 2608.46368242, 2721.90540389, 3221.04897835,\n",
              "       2948.78884683, 2721.90540389, 2495.02196095, 2721.90540389,\n",
              "       3493.30910987, 2381.58023949, 4310.08950445, 2290.82686231,\n",
              "       2154.69679655, 2268.13851802, 2132.00845226, 3221.04897835,\n",
              "       2948.78884683])"
            ]
          },
          "metadata": {},
          "execution_count": 16
        }
      ]
    },
    {
      "cell_type": "code",
      "source": [
        "plt.plot( mother_weight.to_numpy(), y_pred, color = \"b\")  \n",
        "plt.xlabel('Mother Weight') \n",
        "plt.ylabel('Baby Weight') \n",
        "plt.show()\n"
      ],
      "metadata": {
        "colab": {
          "base_uri": "https://localhost:8080/",
          "height": 279
        },
        "id": "KPO7RluYB3Al",
        "outputId": "72cf4c5c-3d3e-4ca5-c9d3-e2218da2eb5e"
      },
      "execution_count": 17,
      "outputs": [
        {
          "output_type": "display_data",
          "data": {
            "text/plain": [
              "<Figure size 432x288 with 1 Axes>"
            ],
            "image/png": "[encoded data removed]"
          },
          "metadata": {
            "needs_background": "light"
          }
        }
      ]
    },
    {
      "cell_type": "markdown",
      "source": [],
      "metadata": {
        "id": "aeGsD00tA778"
      }
    }
  ]
}