{
  "nbformat": 4,
  "nbformat_minor": 0,
  "metadata": {
    "colab": {
      "name": "Untitled0.ipynb",
      "provenance": [],
      "collapsed_sections": [],
      "authorship_tag": "ABX9TyNNo5nNyFNCyRdcSTVVRluM",
      "include_colab_link": true
    },
    "kernelspec": {
      "name": "python3",
      "display_name": "Python 3"
    },
    "language_info": {
      "name": "python"
    }
  },
  "cells": [
    {
      "cell_type": "markdown",
      "metadata": {
        "id": "view-in-github",
        "colab_type": "text"
      },
      "source": [
        "<a href=\"https://colab.research.google.com/github/kaustubhhatkar/DataScience_and_MachineLearning/blob/master/Honours_Ass01.ipynb\" target=\"_parent\"><img src=\"https://colab.research.google.com/assets/colab-badge.svg\" alt=\"Open In Colab\"/></a>"
      ]
    },
    {
      "cell_type": "code",
      "execution_count": 30,
      "metadata": {
        "id": "vEyU_9T0o1Mh"
      },
      "outputs": [],
      "source": [
        "import pandas as pd\n",
        "import numpy as np\n",
        "import io\n",
        "import statistics as st\n",
        "import matplotlib.pyplot as plot"
      ]
    },
    {
      "cell_type": "markdown",
      "source": [
        "Importing Data from Csv file using pandas."
      ],
      "metadata": {
        "id": "NJGmdWcXp6ci"
      }
    },
    {
      "cell_type": "code",
      "source": [
        "df=pd.read_csv('weight-height.csv')\n",
        "print(df)"
      ],
      "metadata": {
        "colab": {
          "base_uri": "https://localhost:8080/"
        },
        "id": "tT2_esX8pZD9",
        "outputId": "e1b39b27-1e8b-4571-cbf4-b352ddbdf74d"
      },
      "execution_count": 31,
      "outputs": [
        {
          "output_type": "stream",
          "name": "stdout",
          "text": [
            "      Gender     Height      Weight\n",
            "0       Male  73.847017  241.893563\n",
            "1       Male  68.781904  162.310473\n",
            "2       Male  74.110105  212.740856\n",
            "3       Male  71.730978  220.042470\n",
            "4       Male  69.881796  206.349801\n",
            "...      ...        ...         ...\n",
            "9995  Female  66.172652  136.777454\n",
            "9996  Female  67.067155  170.867906\n",
            "9997  Female  63.867992  128.475319\n",
            "9998  Female  69.034243  163.852461\n",
            "9999  Female  61.944246  113.649103\n",
            "\n",
            "[10000 rows x 3 columns]\n"
          ]
        }
      ]
    },
    {
      "cell_type": "code",
      "source": [
        "df.describe"
      ],
      "metadata": {
        "colab": {
          "base_uri": "https://localhost:8080/"
        },
        "id": "vaSAX6TAv6lQ",
        "outputId": "e05d49d5-b565-4446-846d-afc0bf38890d"
      },
      "execution_count": 32,
      "outputs": [
        {
          "output_type": "execute_result",
          "data": {
            "text/plain": [
              "<bound method NDFrame.describe of       Gender     Height      Weight\n",
              "0       Male  73.847017  241.893563\n",
              "1       Male  68.781904  162.310473\n",
              "2       Male  74.110105  212.740856\n",
              "3       Male  71.730978  220.042470\n",
              "4       Male  69.881796  206.349801\n",
              "...      ...        ...         ...\n",
              "9995  Female  66.172652  136.777454\n",
              "9996  Female  67.067155  170.867906\n",
              "9997  Female  63.867992  128.475319\n",
              "9998  Female  69.034243  163.852461\n",
              "9999  Female  61.944246  113.649103\n",
              "\n",
              "[10000 rows x 3 columns]>"
            ]
          },
          "metadata": {},
          "execution_count": 32
        }
      ]
    },
    {
      "cell_type": "markdown",
      "source": [
        "Ploting The Data :"
      ],
      "metadata": {
        "id": "qH_xXJVfv_35"
      }
    },
    {
      "cell_type": "code",
      "source": [
        "plot.xlabel('Weight')\n",
        "plot.ylabel('Count')\n",
        "plot.hist(df.Weight,bins=40,rwidth=0.8)\n",
        "plot.show()"
      ],
      "metadata": {
        "colab": {
          "base_uri": "https://localhost:8080/",
          "height": 279
        },
        "id": "bzrT1nCov_Be",
        "outputId": "bc2f39b6-5ad4-4732-fe2e-a99f89475634"
      },
      "execution_count": 33,
      "outputs": [
        {
          "output_type": "display_data",
          "data": {
            "text/plain": [
              "<Figure size 432x288 with 1 Axes>"
            ],
            "image/png": "[encoded data removed]"
          },
          "metadata": {
            "needs_background": "light"
          }
        }
      ]
    },
    {
      "cell_type": "code",
      "source": [
        "plot.xlabel('Height')\n",
        "plot.ylabel('Count')\n",
        "plot.hist(df.Height,bins=40,rwidth=0.8)\n",
        "plot.show()"
      ],
      "metadata": {
        "colab": {
          "base_uri": "https://localhost:8080/",
          "height": 281
        },
        "id": "ZfLNzwg10pxG",
        "outputId": "132119dd-9d4b-448e-cb48-f33f72a09220"
      },
      "execution_count": 43,
      "outputs": [
        {
          "output_type": "display_data",
          "data": {
            "text/plain": [
              "<Figure size 432x288 with 1 Axes>"
            ],
            "image/png": "[encoded data removed]"
          },
          "metadata": {
            "needs_background": "light"
          }
        }
      ]
    },
    {
      "cell_type": "markdown",
      "source": [
        "Calculating Mean of the Variables :"
      ],
      "metadata": {
        "id": "f2g8nHKBrSod"
      }
    },
    {
      "cell_type": "code",
      "source": [
        "print(\"Mean of the Heights :\",np.mean(df['Height']))\n",
        "print(\"Mean of the Weights :\",np.mean(df['Weight']))"
      ],
      "metadata": {
        "colab": {
          "base_uri": "https://localhost:8080/"
        },
        "id": "xjodb0iWqtH6",
        "outputId": "8c1d354f-88fb-4c62-e6da-e04c161a2ff8"
      },
      "execution_count": 39,
      "outputs": [
        {
          "output_type": "stream",
          "name": "stdout",
          "text": [
            "Mean of the Heights : 66.36755975482124\n",
            "Mean of the Weights : 161.44035683283076\n"
          ]
        }
      ]
    },
    {
      "cell_type": "markdown",
      "source": [
        "Calculating Median :"
      ],
      "metadata": {
        "id": "wmgGktVGyp4A"
      }
    },
    {
      "cell_type": "code",
      "source": [
        "print(\"Median of Height:\\n\",st.median(df.Height));\n",
        "print(\"Median of Weight:\\n\",st.median(df.Weight));"
      ],
      "metadata": {
        "colab": {
          "base_uri": "https://localhost:8080/"
        },
        "id": "AROHdtt2ysLD",
        "outputId": "fe75741d-c1bf-4659-eab8-0367c088c695"
      },
      "execution_count": 38,
      "outputs": [
        {
          "output_type": "stream",
          "name": "stdout",
          "text": [
            "Median of Height:\n",
            " 66.31807008178464\n",
            "Median of Weight:\n",
            " 161.21292769948298\n"
          ]
        }
      ]
    },
    {
      "cell_type": "markdown",
      "source": [
        "Calculating Mode of the Variables:"
      ],
      "metadata": {
        "id": "0bdZh8gZw8f2"
      }
    },
    {
      "cell_type": "code",
      "source": [
        "print(\"Mode of the Heights : \",df.Height.mode())\n",
        "print(\"Mode of the Weights : \",df.Weight.mode())"
      ],
      "metadata": {
        "colab": {
          "base_uri": "https://localhost:8080/"
        },
        "id": "uGzNyRJTxBn9",
        "outputId": "dd8c0382-bf18-4831-e44c-c45faf9da4e6"
      },
      "execution_count": 40,
      "outputs": [
        {
          "output_type": "stream",
          "name": "stdout",
          "text": [
            "Mode of the Heights :  0       54.263133\n",
            "1       54.616858\n",
            "2       54.873728\n",
            "3       55.148557\n",
            "4       55.336492\n",
            "          ...    \n",
            "9995    78.095867\n",
            "9996    78.462053\n",
            "9997    78.528210\n",
            "9998    78.621374\n",
            "9999    78.998742\n",
            "Length: 10000, dtype: float64\n",
            "Mode of the Weights :  0        64.700127\n",
            "1        68.982530\n",
            "2        71.393749\n",
            "3        72.750145\n",
            "4        77.523774\n",
            "           ...    \n",
            "9995    253.889004\n",
            "9996    254.209073\n",
            "9997    255.690835\n",
            "9998    255.863326\n",
            "9999    269.989699\n",
            "Length: 10000, dtype: float64\n"
          ]
        }
      ]
    },
    {
      "cell_type": "markdown",
      "source": [
        "Calculating Variance :"
      ],
      "metadata": {
        "id": "x_gtDXZ3sHWV"
      }
    },
    {
      "cell_type": "code",
      "source": [
        "print(\"Variance of the Heights : \",np.var(df['Height']))\n",
        "print(\"Variance of the Weights : \",np.var(df['Weight']))\n",
        "\n",
        "# st.pvariance(df)"
      ],
      "metadata": {
        "colab": {
          "base_uri": "https://localhost:8080/"
        },
        "id": "6HwzDn8gsOGf",
        "outputId": "7f991acb-1ce3-48e8-b3a0-3609858e1ead"
      },
      "execution_count": 12,
      "outputs": [
        {
          "output_type": "stream",
          "name": "stdout",
          "text": [
            "Variance of the Heights :  14.801992292876763\n",
            "Variance of the Weights :  1030.8487602498458\n"
          ]
        }
      ]
    },
    {
      "cell_type": "markdown",
      "source": [
        "Calculating Standard Deviation :"
      ],
      "metadata": {
        "id": "wzsX4c9us33M"
      }
    },
    {
      "cell_type": "code",
      "source": [
        "print(\"Standard Deviation of the Heights : \",np.std(df['Height']))\n",
        "print(\"Standard Deviation of the Weights : \",np.std(df['Weight']))\n",
        "\n",
        "# st.pstdev(df)"
      ],
      "metadata": {
        "colab": {
          "base_uri": "https://localhost:8080/"
        },
        "id": "yChTYP6fs_XN",
        "outputId": "3ffdf291-a896-4ccb-f69a-2ef64542a066"
      },
      "execution_count": 14,
      "outputs": [
        {
          "output_type": "stream",
          "name": "stdout",
          "text": [
            "Standard Deviation of the Heights :  3.84733573955754\n",
            "Standard Deviation of the Weights :  32.106833544431716\n"
          ]
        }
      ]
    },
    {
      "cell_type": "markdown",
      "source": [
        "Calculating Standard Error: "
      ],
      "metadata": {
        "id": "dj7seSQczcdc"
      }
    },
    {
      "cell_type": "code",
      "source": [
        "std_error_height=np.std(df.Height,ddof=1)/np.sqrt(len(df.Height))\n",
        "print(\"Standard Error Height :\",std_error_height);\n",
        "std_error_weight=np.std(df.Weight,ddof=1)/np.sqrt(len(df.Weight))\n",
        "print(\"Standard Error Weight :\", std_error_weight);"
      ],
      "metadata": {
        "colab": {
          "base_uri": "https://localhost:8080/"
        },
        "id": "mULlduQyzgfK",
        "outputId": "2fdd8ec7-9ebe-4855-fdb0-1cb13f1f5533"
      },
      "execution_count": 42,
      "outputs": [
        {
          "output_type": "stream",
          "name": "stdout",
          "text": [
            "Standard Error Height : 0.03847528120773229\n",
            "Standard Error Weight : 0.32108439006519596\n"
          ]
        }
      ]
    }
  ]
}